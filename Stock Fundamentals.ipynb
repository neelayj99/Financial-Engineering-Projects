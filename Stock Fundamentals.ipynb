{
 "cells": [
  {
   "cell_type": "code",
   "execution_count": 2,
   "id": "f18cca4a",
   "metadata": {},
   "outputs": [],
   "source": [
    "import yfinance as yf\n",
    "import pandas as pd\n",
    "import math"
   ]
  },
  {
   "cell_type": "code",
   "execution_count": 5,
   "id": "b3fa97bf",
   "metadata": {},
   "outputs": [
    {
     "name": "stdout",
     "output_type": "stream",
     "text": [
      "Please enter the ticker of the stock MSFT\n"
     ]
    }
   ],
   "source": [
    "company_name = input(\"Please enter the ticker of the stock \")\n",
    "stock = yf.Ticker(company_name)"
   ]
  },
  {
   "cell_type": "code",
   "execution_count": 6,
   "id": "e0e6b1eb",
   "metadata": {},
   "outputs": [
    {
     "name": "stdout",
     "output_type": "stream",
     "text": [
      "Last few actions by the company including stock splits and dividends are:\n"
     ]
    },
    {
     "data": {
      "text/html": [
       "<div>\n",
       "<style scoped>\n",
       "    .dataframe tbody tr th:only-of-type {\n",
       "        vertical-align: middle;\n",
       "    }\n",
       "\n",
       "    .dataframe tbody tr th {\n",
       "        vertical-align: top;\n",
       "    }\n",
       "\n",
       "    .dataframe thead th {\n",
       "        text-align: right;\n",
       "    }\n",
       "</style>\n",
       "<table border=\"1\" class=\"dataframe\">\n",
       "  <thead>\n",
       "    <tr style=\"text-align: right;\">\n",
       "      <th></th>\n",
       "      <th>Dividends</th>\n",
       "      <th>Stock Splits</th>\n",
       "    </tr>\n",
       "    <tr>\n",
       "      <th>Date</th>\n",
       "      <th></th>\n",
       "      <th></th>\n",
       "    </tr>\n",
       "  </thead>\n",
       "  <tbody>\n",
       "    <tr>\n",
       "      <th>2020-05-20</th>\n",
       "      <td>0.51</td>\n",
       "      <td>0.0</td>\n",
       "    </tr>\n",
       "    <tr>\n",
       "      <th>2020-08-19</th>\n",
       "      <td>0.51</td>\n",
       "      <td>0.0</td>\n",
       "    </tr>\n",
       "    <tr>\n",
       "      <th>2020-11-18</th>\n",
       "      <td>0.56</td>\n",
       "      <td>0.0</td>\n",
       "    </tr>\n",
       "    <tr>\n",
       "      <th>2021-02-17</th>\n",
       "      <td>0.56</td>\n",
       "      <td>0.0</td>\n",
       "    </tr>\n",
       "    <tr>\n",
       "      <th>2021-05-19</th>\n",
       "      <td>0.56</td>\n",
       "      <td>0.0</td>\n",
       "    </tr>\n",
       "  </tbody>\n",
       "</table>\n",
       "</div>"
      ],
      "text/plain": [
       "            Dividends  Stock Splits\n",
       "Date                               \n",
       "2020-05-20       0.51           0.0\n",
       "2020-08-19       0.51           0.0\n",
       "2020-11-18       0.56           0.0\n",
       "2021-02-17       0.56           0.0\n",
       "2021-05-19       0.56           0.0"
      ]
     },
     "execution_count": 6,
     "metadata": {},
     "output_type": "execute_result"
    }
   ],
   "source": [
    "print(\"Last few actions by the company including stock splits and dividends are:\")\n",
    "stock.actions.tail()"
   ]
  },
  {
   "cell_type": "code",
   "execution_count": 7,
   "id": "62754499",
   "metadata": {},
   "outputs": [
    {
     "name": "stdout",
     "output_type": "stream",
     "text": [
      "The major holders/promoters of the company include: \n"
     ]
    },
    {
     "data": {
      "text/html": [
       "<div>\n",
       "<style scoped>\n",
       "    .dataframe tbody tr th:only-of-type {\n",
       "        vertical-align: middle;\n",
       "    }\n",
       "\n",
       "    .dataframe tbody tr th {\n",
       "        vertical-align: top;\n",
       "    }\n",
       "\n",
       "    .dataframe thead th {\n",
       "        text-align: right;\n",
       "    }\n",
       "</style>\n",
       "<table border=\"1\" class=\"dataframe\">\n",
       "  <thead>\n",
       "    <tr style=\"text-align: right;\">\n",
       "      <th></th>\n",
       "      <th>0</th>\n",
       "      <th>1</th>\n",
       "    </tr>\n",
       "  </thead>\n",
       "  <tbody>\n",
       "    <tr>\n",
       "      <th>0</th>\n",
       "      <td>0.07%</td>\n",
       "      <td>% of Shares Held by All Insider</td>\n",
       "    </tr>\n",
       "    <tr>\n",
       "      <th>1</th>\n",
       "      <td>72.08%</td>\n",
       "      <td>% of Shares Held by Institutions</td>\n",
       "    </tr>\n",
       "    <tr>\n",
       "      <th>2</th>\n",
       "      <td>72.14%</td>\n",
       "      <td>% of Float Held by Institutions</td>\n",
       "    </tr>\n",
       "  </tbody>\n",
       "</table>\n",
       "</div>"
      ],
      "text/plain": [
       "        0                                 1\n",
       "0   0.07%   % of Shares Held by All Insider\n",
       "1  72.08%  % of Shares Held by Institutions\n",
       "2  72.14%   % of Float Held by Institutions"
      ]
     },
     "execution_count": 7,
     "metadata": {},
     "output_type": "execute_result"
    }
   ],
   "source": [
    "print(\"The major holders/promoters of the company include: \")\n",
    "stock.major_holders[:3]"
   ]
  },
  {
   "cell_type": "code",
   "execution_count": 8,
   "id": "a2aea632",
   "metadata": {},
   "outputs": [
    {
     "name": "stdout",
     "output_type": "stream",
     "text": [
      "The major instituitional share of the company include: \n"
     ]
    },
    {
     "data": {
      "text/html": [
       "<div>\n",
       "<style scoped>\n",
       "    .dataframe tbody tr th:only-of-type {\n",
       "        vertical-align: middle;\n",
       "    }\n",
       "\n",
       "    .dataframe tbody tr th {\n",
       "        vertical-align: top;\n",
       "    }\n",
       "\n",
       "    .dataframe thead th {\n",
       "        text-align: right;\n",
       "    }\n",
       "</style>\n",
       "<table border=\"1\" class=\"dataframe\">\n",
       "  <thead>\n",
       "    <tr style=\"text-align: right;\">\n",
       "      <th></th>\n",
       "      <th>Holder</th>\n",
       "      <th>Shares</th>\n",
       "      <th>Date Reported</th>\n",
       "      <th>% Out</th>\n",
       "      <th>Value</th>\n",
       "    </tr>\n",
       "  </thead>\n",
       "  <tbody>\n",
       "    <tr>\n",
       "      <th>0</th>\n",
       "      <td>Vanguard Group, Inc. (The)</td>\n",
       "      <td>610849992</td>\n",
       "      <td>2021-03-30</td>\n",
       "      <td>0.0811</td>\n",
       "      <td>144020102613</td>\n",
       "    </tr>\n",
       "    <tr>\n",
       "      <th>1</th>\n",
       "      <td>Blackrock Inc.</td>\n",
       "      <td>518649291</td>\n",
       "      <td>2021-03-30</td>\n",
       "      <td>0.0689</td>\n",
       "      <td>122281943339</td>\n",
       "    </tr>\n",
       "    <tr>\n",
       "      <th>2</th>\n",
       "      <td>State Street Corporation</td>\n",
       "      <td>292575655</td>\n",
       "      <td>2021-03-30</td>\n",
       "      <td>0.0388</td>\n",
       "      <td>68980562179</td>\n",
       "    </tr>\n",
       "    <tr>\n",
       "      <th>3</th>\n",
       "      <td>FMR, LLC</td>\n",
       "      <td>217585928</td>\n",
       "      <td>2021-03-30</td>\n",
       "      <td>0.0289</td>\n",
       "      <td>51300234244</td>\n",
       "    </tr>\n",
       "    <tr>\n",
       "      <th>4</th>\n",
       "      <td>Price (T.Rowe) Associates Inc</td>\n",
       "      <td>178824616</td>\n",
       "      <td>2021-03-30</td>\n",
       "      <td>0.0237</td>\n",
       "      <td>42161479714</td>\n",
       "    </tr>\n",
       "    <tr>\n",
       "      <th>5</th>\n",
       "      <td>Geode Capital Management, LLC</td>\n",
       "      <td>120231394</td>\n",
       "      <td>2021-03-30</td>\n",
       "      <td>0.0160</td>\n",
       "      <td>28346955763</td>\n",
       "    </tr>\n",
       "    <tr>\n",
       "      <th>6</th>\n",
       "      <td>Capital World Investors</td>\n",
       "      <td>112150578</td>\n",
       "      <td>2021-03-30</td>\n",
       "      <td>0.0149</td>\n",
       "      <td>26441741775</td>\n",
       "    </tr>\n",
       "    <tr>\n",
       "      <th>7</th>\n",
       "      <td>Capital Research Global Investors</td>\n",
       "      <td>99286940</td>\n",
       "      <td>2021-03-30</td>\n",
       "      <td>0.0132</td>\n",
       "      <td>23408881843</td>\n",
       "    </tr>\n",
       "    <tr>\n",
       "      <th>8</th>\n",
       "      <td>Capital International Investors</td>\n",
       "      <td>90228967</td>\n",
       "      <td>2021-03-30</td>\n",
       "      <td>0.0120</td>\n",
       "      <td>21273283549</td>\n",
       "    </tr>\n",
       "    <tr>\n",
       "      <th>9</th>\n",
       "      <td>Northern Trust Corporation</td>\n",
       "      <td>89762724</td>\n",
       "      <td>2021-03-30</td>\n",
       "      <td>0.0119</td>\n",
       "      <td>21163357437</td>\n",
       "    </tr>\n",
       "  </tbody>\n",
       "</table>\n",
       "</div>"
      ],
      "text/plain": [
       "                              Holder     Shares Date Reported   % Out  \\\n",
       "0         Vanguard Group, Inc. (The)  610849992    2021-03-30  0.0811   \n",
       "1                     Blackrock Inc.  518649291    2021-03-30  0.0689   \n",
       "2           State Street Corporation  292575655    2021-03-30  0.0388   \n",
       "3                           FMR, LLC  217585928    2021-03-30  0.0289   \n",
       "4      Price (T.Rowe) Associates Inc  178824616    2021-03-30  0.0237   \n",
       "5      Geode Capital Management, LLC  120231394    2021-03-30  0.0160   \n",
       "6            Capital World Investors  112150578    2021-03-30  0.0149   \n",
       "7  Capital Research Global Investors   99286940    2021-03-30  0.0132   \n",
       "8    Capital International Investors   90228967    2021-03-30  0.0120   \n",
       "9         Northern Trust Corporation   89762724    2021-03-30  0.0119   \n",
       "\n",
       "          Value  \n",
       "0  144020102613  \n",
       "1  122281943339  \n",
       "2   68980562179  \n",
       "3   51300234244  \n",
       "4   42161479714  \n",
       "5   28346955763  \n",
       "6   26441741775  \n",
       "7   23408881843  \n",
       "8   21273283549  \n",
       "9   21163357437  "
      ]
     },
     "execution_count": 8,
     "metadata": {},
     "output_type": "execute_result"
    }
   ],
   "source": [
    "print(\"The major instituitional share of the company include: \")\n",
    "stock.institutional_holders"
   ]
  },
  {
   "cell_type": "code",
   "execution_count": 9,
   "id": "f38428e8",
   "metadata": {},
   "outputs": [
    {
     "data": {
      "text/plain": [
       "'Microsoft Corporation develops, licenses, and supports software, services, devices, and solutions worldwide. Its Productivity and Business Processes segment offers Office, Exchange, SharePoint, Microsoft Teams, Office 365 Security and Compliance, and Skype for Business, as well as related Client Access Licenses (CAL); Skype, Outlook.com, OneDrive, and LinkedIn; and Dynamics 365, a set of cloud-based and on-premises business solutions for small and medium businesses, organizations, and enterprise divisions. Its Intelligent Cloud segment licenses SQL and Windows Servers, Visual Studio, System Center, and related CALs; GitHub that provides a collaboration platform and code hosting service for developers; and Azure, a cloud platform. It also offers support services and Microsoft consulting services to assist customers in developing, deploying, and managing Microsoft server and desktop solutions; and training and certification to developers and IT professionals on Microsoft products. Its More Personal Computing segment provides Windows original equipment manufacturer (OEM) licensing and other non-volume licensing of the Windows operating system; Windows Commercial, such as volume licensing of the Windows operating system, Windows cloud services, and other Windows commercial offerings; patent licensing; Windows Internet of Things; and MSN advertising. It also offers Surface, PC accessories, PCs, tablets, gaming and entertainment consoles, and other devices; Gaming, including Xbox hardware, and Xbox content and services; video games and third-party video game royalties; and Search, including Bing and Microsoft advertising. It sells its products through OEMs, distributors, and resellers; and directly through digital marketplaces, online stores, and retail stores. It has a collaboration with DXC Technology, Dynatrace, Inc., Morgan Stanley, Micro Focus, WPP plc, and iCIMS, Inc. The company was founded in 1975 and is headquartered in Redmond, Washington.'"
      ]
     },
     "execution_count": 9,
     "metadata": {},
     "output_type": "execute_result"
    }
   ],
   "source": [
    "stock.info['longBusinessSummary']"
   ]
  },
  {
   "cell_type": "code",
   "execution_count": 10,
   "id": "3d3f5281",
   "metadata": {},
   "outputs": [
    {
     "name": "stdout",
     "output_type": "stream",
     "text": [
      "The recommendation of the company by raters using most recent finances are: \n"
     ]
    },
    {
     "data": {
      "text/html": [
       "<div>\n",
       "<style scoped>\n",
       "    .dataframe tbody tr th:only-of-type {\n",
       "        vertical-align: middle;\n",
       "    }\n",
       "\n",
       "    .dataframe tbody tr th {\n",
       "        vertical-align: top;\n",
       "    }\n",
       "\n",
       "    .dataframe thead th {\n",
       "        text-align: right;\n",
       "    }\n",
       "</style>\n",
       "<table border=\"1\" class=\"dataframe\">\n",
       "  <thead>\n",
       "    <tr style=\"text-align: right;\">\n",
       "      <th></th>\n",
       "      <th>Firm</th>\n",
       "      <th>To Grade</th>\n",
       "      <th>From Grade</th>\n",
       "      <th>Action</th>\n",
       "    </tr>\n",
       "    <tr>\n",
       "      <th>Date</th>\n",
       "      <th></th>\n",
       "      <th></th>\n",
       "      <th></th>\n",
       "      <th></th>\n",
       "    </tr>\n",
       "  </thead>\n",
       "  <tbody>\n",
       "    <tr>\n",
       "      <th>2021-07-28 13:22:55</th>\n",
       "      <td>Morgan Stanley</td>\n",
       "      <td>Overweight</td>\n",
       "      <td></td>\n",
       "      <td>main</td>\n",
       "    </tr>\n",
       "    <tr>\n",
       "      <th>2021-07-28 14:47:46</th>\n",
       "      <td>Barclays</td>\n",
       "      <td>Overweight</td>\n",
       "      <td></td>\n",
       "      <td>main</td>\n",
       "    </tr>\n",
       "    <tr>\n",
       "      <th>2021-07-28 14:49:16</th>\n",
       "      <td>Citigroup</td>\n",
       "      <td>Buy</td>\n",
       "      <td></td>\n",
       "      <td>main</td>\n",
       "    </tr>\n",
       "    <tr>\n",
       "      <th>2021-07-28 14:51:12</th>\n",
       "      <td>Mizuho</td>\n",
       "      <td>Buy</td>\n",
       "      <td></td>\n",
       "      <td>main</td>\n",
       "    </tr>\n",
       "    <tr>\n",
       "      <th>2021-07-28 14:54:54</th>\n",
       "      <td>Credit Suisse</td>\n",
       "      <td>Outperform</td>\n",
       "      <td></td>\n",
       "      <td>main</td>\n",
       "    </tr>\n",
       "  </tbody>\n",
       "</table>\n",
       "</div>"
      ],
      "text/plain": [
       "                               Firm    To Grade From Grade Action\n",
       "Date                                                             \n",
       "2021-07-28 13:22:55  Morgan Stanley  Overweight              main\n",
       "2021-07-28 14:47:46        Barclays  Overweight              main\n",
       "2021-07-28 14:49:16       Citigroup         Buy              main\n",
       "2021-07-28 14:51:12          Mizuho         Buy              main\n",
       "2021-07-28 14:54:54   Credit Suisse  Outperform              main"
      ]
     },
     "execution_count": 10,
     "metadata": {},
     "output_type": "execute_result"
    }
   ],
   "source": [
    "print(\"The recommendation of the company by raters using most recent finances are: \")\n",
    "stock.recommendations.tail()"
   ]
  },
  {
   "cell_type": "code",
   "execution_count": 11,
   "id": "a7bb5dab",
   "metadata": {},
   "outputs": [
    {
     "name": "stdout",
     "output_type": "stream",
     "text": [
      "The company's contribution towards environment and social responsibility includes: \n"
     ]
    },
    {
     "data": {
      "text/html": [
       "<div>\n",
       "<style scoped>\n",
       "    .dataframe tbody tr th:only-of-type {\n",
       "        vertical-align: middle;\n",
       "    }\n",
       "\n",
       "    .dataframe tbody tr th {\n",
       "        vertical-align: top;\n",
       "    }\n",
       "\n",
       "    .dataframe thead th {\n",
       "        text-align: right;\n",
       "    }\n",
       "</style>\n",
       "<table border=\"1\" class=\"dataframe\">\n",
       "  <thead>\n",
       "    <tr style=\"text-align: right;\">\n",
       "      <th></th>\n",
       "      <th>Value</th>\n",
       "    </tr>\n",
       "    <tr>\n",
       "      <th>2021-5</th>\n",
       "      <th></th>\n",
       "    </tr>\n",
       "  </thead>\n",
       "  <tbody>\n",
       "    <tr>\n",
       "      <th>palmOil</th>\n",
       "      <td>False</td>\n",
       "    </tr>\n",
       "    <tr>\n",
       "      <th>controversialWeapons</th>\n",
       "      <td>False</td>\n",
       "    </tr>\n",
       "    <tr>\n",
       "      <th>gambling</th>\n",
       "      <td>False</td>\n",
       "    </tr>\n",
       "    <tr>\n",
       "      <th>socialScore</th>\n",
       "      <td>9.37</td>\n",
       "    </tr>\n",
       "    <tr>\n",
       "      <th>nuclear</th>\n",
       "      <td>False</td>\n",
       "    </tr>\n",
       "    <tr>\n",
       "      <th>furLeather</th>\n",
       "      <td>False</td>\n",
       "    </tr>\n",
       "    <tr>\n",
       "      <th>alcoholic</th>\n",
       "      <td>False</td>\n",
       "    </tr>\n",
       "    <tr>\n",
       "      <th>gmo</th>\n",
       "      <td>False</td>\n",
       "    </tr>\n",
       "    <tr>\n",
       "      <th>catholic</th>\n",
       "      <td>False</td>\n",
       "    </tr>\n",
       "    <tr>\n",
       "      <th>socialPercentile</th>\n",
       "      <td>None</td>\n",
       "    </tr>\n",
       "    <tr>\n",
       "      <th>peerCount</th>\n",
       "      <td>103</td>\n",
       "    </tr>\n",
       "    <tr>\n",
       "      <th>governanceScore</th>\n",
       "      <td>4.83</td>\n",
       "    </tr>\n",
       "    <tr>\n",
       "      <th>environmentPercentile</th>\n",
       "      <td>None</td>\n",
       "    </tr>\n",
       "    <tr>\n",
       "      <th>animalTesting</th>\n",
       "      <td>False</td>\n",
       "    </tr>\n",
       "    <tr>\n",
       "      <th>tobacco</th>\n",
       "      <td>False</td>\n",
       "    </tr>\n",
       "    <tr>\n",
       "      <th>totalEsg</th>\n",
       "      <td>14.63</td>\n",
       "    </tr>\n",
       "    <tr>\n",
       "      <th>highestControversy</th>\n",
       "      <td>3</td>\n",
       "    </tr>\n",
       "    <tr>\n",
       "      <th>esgPerformance</th>\n",
       "      <td>UNDER_PERF</td>\n",
       "    </tr>\n",
       "    <tr>\n",
       "      <th>coal</th>\n",
       "      <td>False</td>\n",
       "    </tr>\n",
       "    <tr>\n",
       "      <th>pesticides</th>\n",
       "      <td>False</td>\n",
       "    </tr>\n",
       "    <tr>\n",
       "      <th>adult</th>\n",
       "      <td>False</td>\n",
       "    </tr>\n",
       "    <tr>\n",
       "      <th>percentile</th>\n",
       "      <td>7.59</td>\n",
       "    </tr>\n",
       "    <tr>\n",
       "      <th>peerGroup</th>\n",
       "      <td>Software &amp; Services</td>\n",
       "    </tr>\n",
       "    <tr>\n",
       "      <th>smallArms</th>\n",
       "      <td>False</td>\n",
       "    </tr>\n",
       "    <tr>\n",
       "      <th>environmentScore</th>\n",
       "      <td>0.42</td>\n",
       "    </tr>\n",
       "    <tr>\n",
       "      <th>governancePercentile</th>\n",
       "      <td>None</td>\n",
       "    </tr>\n",
       "    <tr>\n",
       "      <th>militaryContract</th>\n",
       "      <td>False</td>\n",
       "    </tr>\n",
       "  </tbody>\n",
       "</table>\n",
       "</div>"
      ],
      "text/plain": [
       "                                     Value\n",
       "2021-5                                    \n",
       "palmOil                              False\n",
       "controversialWeapons                 False\n",
       "gambling                             False\n",
       "socialScore                           9.37\n",
       "nuclear                              False\n",
       "furLeather                           False\n",
       "alcoholic                            False\n",
       "gmo                                  False\n",
       "catholic                             False\n",
       "socialPercentile                      None\n",
       "peerCount                              103\n",
       "governanceScore                       4.83\n",
       "environmentPercentile                 None\n",
       "animalTesting                        False\n",
       "tobacco                              False\n",
       "totalEsg                             14.63\n",
       "highestControversy                       3\n",
       "esgPerformance                  UNDER_PERF\n",
       "coal                                 False\n",
       "pesticides                           False\n",
       "adult                                False\n",
       "percentile                            7.59\n",
       "peerGroup              Software & Services\n",
       "smallArms                            False\n",
       "environmentScore                      0.42\n",
       "governancePercentile                  None\n",
       "militaryContract                     False"
      ]
     },
     "execution_count": 11,
     "metadata": {},
     "output_type": "execute_result"
    }
   ],
   "source": [
    "print(\"The company's contribution towards environment and social responsibility includes: \")\n",
    "stock.sustainability"
   ]
  },
  {
   "cell_type": "code",
   "execution_count": 12,
   "id": "59f91e4d",
   "metadata": {},
   "outputs": [],
   "source": [
    "historical_1 = stock.history(period=\"1y\")\n",
    "historical_2 = stock.history(period=\"2y\")\n",
    "historical_3 = stock.history(period=\"3y\")\n",
    "historical_5 = stock.history(period=\"5y\")"
   ]
  },
  {
   "cell_type": "code",
   "execution_count": 13,
   "id": "10c0f608",
   "metadata": {},
   "outputs": [],
   "source": [
    "return_1 = ((historical_1[\"Close\"]).shift(-1)/historical_1[\"Close\"])\n",
    "return_1=return_1.dropna()\n",
    "\n",
    "return_2 = ((historical_2[\"Close\"]).shift(-1)/historical_2[\"Close\"])\n",
    "return_2=return_2.dropna()\n",
    "\n",
    "return_3 = ((historical_3[\"Close\"]).shift(-1)/historical_3[\"Close\"])\n",
    "return_3=return_3.dropna()\n",
    "\n",
    "return_5 = ((historical_5[\"Close\"]).shift(-1)/historical_5[\"Close\"])\n",
    "return_5=return_5.dropna()"
   ]
  },
  {
   "cell_type": "code",
   "execution_count": 14,
   "id": "aab4f5f8",
   "metadata": {},
   "outputs": [
    {
     "name": "stdout",
     "output_type": "stream",
     "text": [
      "The one year annualized return for the stock is  99.77676511279228 %\n",
      "The two year annualized return for the stock is  41.34240875009605 %\n",
      "The three year annualized return for the stock is  25.94521114901134 %\n",
      "The five year annualized return for the stock is  14.8441810884546 %\n"
     ]
    }
   ],
   "source": [
    "count=0\n",
    "for i in return_1:\n",
    "    count+=1\n",
    "    i=i*i+1\n",
    "annualized_return = ((i**(1/1))-1)*100\n",
    "print(\"The one year annualized return for the stock is \",annualized_return,\"%\")\n",
    "\n",
    "count=0\n",
    "for i in return_2:\n",
    "    count+=1\n",
    "    i=i*i+1\n",
    "twoyear_return = ((i**(1/2))-1)*100\n",
    "print(\"The two year annualized return for the stock is \",twoyear_return,\"%\")\n",
    "\n",
    "count=0\n",
    "for i in return_3:\n",
    "    count+=1\n",
    "    i=i*i+1\n",
    "threeyear_return = ((i**(1/3))-1)*100\n",
    "print(\"The three year annualized return for the stock is \",threeyear_return,\"%\")\n",
    "\n",
    "count=0\n",
    "for i in return_5:\n",
    "    count+=1\n",
    "    i=i*i+1\n",
    "fiveyear_return = ((i**(1/5))-1)*100\n",
    "print(\"The five year annualized return for the stock is \",fiveyear_return,\"%\")"
   ]
  },
  {
   "cell_type": "code",
   "execution_count": 15,
   "id": "26f574b8",
   "metadata": {},
   "outputs": [],
   "source": [
    "historical_max = stock.history(period=\"max\")"
   ]
  },
  {
   "cell_type": "code",
   "execution_count": 16,
   "id": "bddea6dd",
   "metadata": {},
   "outputs": [],
   "source": [
    "return_max = historical_max[\"Close\"].shift(-1)/historical_max[\"Close\"]\n",
    "return_max = return_max.dropna()"
   ]
  },
  {
   "cell_type": "code",
   "execution_count": 17,
   "id": "0bf02590",
   "metadata": {},
   "outputs": [
    {
     "name": "stdout",
     "output_type": "stream",
     "text": [
      "The historical one day-VaR of the Company at 99% confidence interval is  -5.490206760309779 %\n",
      "The expected shortfall of the company at 99% confidence interval is  -7.927281485384784 %\n"
     ]
    }
   ],
   "source": [
    "historical_var = return_max.sort_values(ascending=True)\n",
    "max_count = historical_var.index\n",
    "max_count = len(max_count)\n",
    "var_count = math.floor(max_count*0.01)\n",
    "var = (historical_var[var_count]-1)*100\n",
    "print(\"The historical one day-VaR of the Company at 99% confidence interval is \",var,\"%\")\n",
    "expected_shortfall = abs((historical_var.iloc[0:var_count]-1)).sum()\n",
    "expected_shortfall = -(expected_shortfall/var_count)*100\n",
    "print(\"The expected shortfall of the company at 99% confidence interval is \",expected_shortfall,\"%\")"
   ]
  },
  {
   "cell_type": "code",
   "execution_count": 18,
   "id": "7ffa8547",
   "metadata": {},
   "outputs": [
    {
     "name": "stdout",
     "output_type": "stream",
     "text": [
      "The daily volatility of the stock is  1.715275204030941 %\n",
      "The monthly volatility of the stock is  7.860378460152609 %\n",
      "The annualized volatility of the stock is  27.229149719408667 %\n"
     ]
    }
   ],
   "source": [
    "daily_volatility = return_5.std(axis=0)\n",
    "annual_volatility = daily_volatility*math.sqrt(252)\n",
    "monthly_volatility = annual_volatility/math.sqrt(12)\n",
    "print(\"The daily volatility of the stock is \",daily_volatility*100,\"%\")\n",
    "print(\"The monthly volatility of the stock is \",monthly_volatility*100,\"%\")\n",
    "print(\"The annualized volatility of the stock is \",annual_volatility*100,\"%\")"
   ]
  },
  {
   "cell_type": "code",
   "execution_count": 19,
   "id": "e267cb4b",
   "metadata": {},
   "outputs": [
    {
     "data": {
      "text/plain": [
       "Date\n",
       "2016-07-29    18432.199219\n",
       "2016-08-01    18404.500000\n",
       "2016-08-02    18313.800781\n",
       "2016-08-03    18355.000000\n",
       "2016-08-04    18352.099609\n",
       "                  ...     \n",
       "2021-07-21    34798.000000\n",
       "2021-07-22    34823.300781\n",
       "2021-07-23    35061.601562\n",
       "2021-07-26    35144.300781\n",
       "2021-07-27    35058.500000\n",
       "Name: Close, Length: 1091, dtype: float64"
      ]
     },
     "execution_count": 19,
     "metadata": {},
     "output_type": "execute_result"
    }
   ],
   "source": [
    "index = yf.Ticker(\"DJI\")\n",
    "index_historical_5 = index.history(period=\"5y\")\n",
    "index_historical_5 = index_historical_5['Close']\n",
    "index_historical_5"
   ]
  },
  {
   "cell_type": "code",
   "execution_count": 22,
   "id": "6255daa8",
   "metadata": {},
   "outputs": [
    {
     "data": {
      "text/plain": [
       "Date\n",
       "2016-07-29     52.216900\n",
       "2016-08-01     52.124783\n",
       "2016-08-02     52.124783\n",
       "2016-08-03     52.484077\n",
       "2016-08-04     52.871002\n",
       "                 ...    \n",
       "2021-07-22    286.140015\n",
       "2021-07-23    289.670013\n",
       "2021-07-26    289.049988\n",
       "2021-07-27    286.540009\n",
       "2021-07-28    286.220001\n",
       "Name: Close, Length: 1258, dtype: float64"
      ]
     },
     "execution_count": 22,
     "metadata": {},
     "output_type": "execute_result"
    }
   ],
   "source": [
    "stock_with_index = historical_5['Close']\n",
    "stock_with_index"
   ]
  },
  {
   "cell_type": "code",
   "execution_count": 26,
   "id": "d1eac8f0",
   "metadata": {},
   "outputs": [],
   "source": [
    "stock_with_index = pd.concat([stock_with_index, index_historical_5], axis=1)"
   ]
  },
  {
   "cell_type": "code",
   "execution_count": 29,
   "id": "10d8bc91",
   "metadata": {},
   "outputs": [],
   "source": [
    "stock_with_index.columns = ['CloseCompany', 'CloseIndex']\n",
    "stock_with_index = stock_with_index.dropna()"
   ]
  },
  {
   "cell_type": "code",
   "execution_count": 30,
   "id": "ee96332a",
   "metadata": {},
   "outputs": [
    {
     "data": {
      "text/html": [
       "<div>\n",
       "<style scoped>\n",
       "    .dataframe tbody tr th:only-of-type {\n",
       "        vertical-align: middle;\n",
       "    }\n",
       "\n",
       "    .dataframe tbody tr th {\n",
       "        vertical-align: top;\n",
       "    }\n",
       "\n",
       "    .dataframe thead th {\n",
       "        text-align: right;\n",
       "    }\n",
       "</style>\n",
       "<table border=\"1\" class=\"dataframe\">\n",
       "  <thead>\n",
       "    <tr style=\"text-align: right;\">\n",
       "      <th></th>\n",
       "      <th>CloseCompany</th>\n",
       "      <th>CloseIndex</th>\n",
       "    </tr>\n",
       "    <tr>\n",
       "      <th>Date</th>\n",
       "      <th></th>\n",
       "      <th></th>\n",
       "    </tr>\n",
       "  </thead>\n",
       "  <tbody>\n",
       "    <tr>\n",
       "      <th>2016-07-29</th>\n",
       "      <td>52.216900</td>\n",
       "      <td>18432.199219</td>\n",
       "    </tr>\n",
       "    <tr>\n",
       "      <th>2016-08-01</th>\n",
       "      <td>52.124783</td>\n",
       "      <td>18404.500000</td>\n",
       "    </tr>\n",
       "    <tr>\n",
       "      <th>2016-08-02</th>\n",
       "      <td>52.124783</td>\n",
       "      <td>18313.800781</td>\n",
       "    </tr>\n",
       "    <tr>\n",
       "      <th>2016-08-03</th>\n",
       "      <td>52.484077</td>\n",
       "      <td>18355.000000</td>\n",
       "    </tr>\n",
       "    <tr>\n",
       "      <th>2016-08-04</th>\n",
       "      <td>52.871002</td>\n",
       "      <td>18352.099609</td>\n",
       "    </tr>\n",
       "    <tr>\n",
       "      <th>...</th>\n",
       "      <td>...</td>\n",
       "      <td>...</td>\n",
       "    </tr>\n",
       "    <tr>\n",
       "      <th>2021-07-21</th>\n",
       "      <td>281.399994</td>\n",
       "      <td>34798.000000</td>\n",
       "    </tr>\n",
       "    <tr>\n",
       "      <th>2021-07-22</th>\n",
       "      <td>286.140015</td>\n",
       "      <td>34823.300781</td>\n",
       "    </tr>\n",
       "    <tr>\n",
       "      <th>2021-07-23</th>\n",
       "      <td>289.670013</td>\n",
       "      <td>35061.601562</td>\n",
       "    </tr>\n",
       "    <tr>\n",
       "      <th>2021-07-26</th>\n",
       "      <td>289.049988</td>\n",
       "      <td>35144.300781</td>\n",
       "    </tr>\n",
       "    <tr>\n",
       "      <th>2021-07-27</th>\n",
       "      <td>286.540009</td>\n",
       "      <td>35058.500000</td>\n",
       "    </tr>\n",
       "  </tbody>\n",
       "</table>\n",
       "<p>1091 rows × 2 columns</p>\n",
       "</div>"
      ],
      "text/plain": [
       "            CloseCompany    CloseIndex\n",
       "Date                                  \n",
       "2016-07-29     52.216900  18432.199219\n",
       "2016-08-01     52.124783  18404.500000\n",
       "2016-08-02     52.124783  18313.800781\n",
       "2016-08-03     52.484077  18355.000000\n",
       "2016-08-04     52.871002  18352.099609\n",
       "...                  ...           ...\n",
       "2021-07-21    281.399994  34798.000000\n",
       "2021-07-22    286.140015  34823.300781\n",
       "2021-07-23    289.670013  35061.601562\n",
       "2021-07-26    289.049988  35144.300781\n",
       "2021-07-27    286.540009  35058.500000\n",
       "\n",
       "[1091 rows x 2 columns]"
      ]
     },
     "execution_count": 30,
     "metadata": {},
     "output_type": "execute_result"
    }
   ],
   "source": [
    "stock_with_index"
   ]
  },
  {
   "cell_type": "code",
   "execution_count": 41,
   "id": "f8a463c4",
   "metadata": {},
   "outputs": [
    {
     "name": "stdout",
     "output_type": "stream",
     "text": [
      "The Beta of the Company is  0.014160859512982554\n",
      "Enter the current price of Dow Jones Futures Contract 34930.32\n",
      "To protect against any systemic risk from market, it is advised to short 101 DOW JONES Future Contracts\n"
     ]
    }
   ],
   "source": [
    "corr = stock_with_index['CloseCompany'].corr(stock_with_index['CloseIndex'])\n",
    "beta = corr*(stock_with_index['CloseCompany'].std()/stock_with_index['CloseIndex'].std())\n",
    "print(\"The Beta of the Company is \",beta)\n",
    "index_price=float(input(\"Enter the current price of Dow Jones Futures Contract \"))\n",
    "hedged_position = (0-beta)*1000000/index_price*250\n",
    "print(\"To protect against any systemic risk from market, it is advised to short\",math.floor(abs(hedged_position)),\"DOW JONES Future Contracts\")"
   ]
  },
  {
   "cell_type": "code",
   "execution_count": null,
   "id": "8718b331",
   "metadata": {},
   "outputs": [],
   "source": []
  },
  {
   "cell_type": "code",
   "execution_count": null,
   "id": "d0484833",
   "metadata": {},
   "outputs": [],
   "source": []
  }
 ],
 "metadata": {
  "kernelspec": {
   "display_name": "Python 3",
   "language": "python",
   "name": "python3"
  },
  "language_info": {
   "codemirror_mode": {
    "name": "ipython",
    "version": 3
   },
   "file_extension": ".py",
   "mimetype": "text/x-python",
   "name": "python",
   "nbconvert_exporter": "python",
   "pygments_lexer": "ipython3",
   "version": "3.8.8"
  }
 },
 "nbformat": 4,
 "nbformat_minor": 5
}
